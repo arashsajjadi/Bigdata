{
  "nbformat": 4,
  "nbformat_minor": 0,
  "metadata": {
    "colab": {
      "provenance": [],
      "include_colab_link": true
    },
    "kernelspec": {
      "name": "python3",
      "display_name": "Python 3"
    },
    "language_info": {
      "name": "python"
    }
  },
  "cells": [
    {
      "cell_type": "markdown",
      "metadata": {
        "id": "view-in-github",
        "colab_type": "text"
      },
      "source": [
        "<a href=\"https://colab.research.google.com/github/arashsajjadi/Bigdata/blob/main/Shahid%20Beheshti%20University%20course/Assignments/First%20series/Question5/SparkTutorial.ipynb\" target=\"_parent\"><img src=\"https://colab.research.google.com/assets/colab-badge.svg\" alt=\"Open In Colab\"/></a>"
      ]
    },
    {
      "cell_type": "markdown",
      "source": [
        "<center>\n",
        "<h1 dir=rtl>\n",
        "«تمرین برنامه‌نویسی اول»\n",
        "</h1>\n",
        "<h3 dir=rtl>\n",
        " نصب اسپارک و پردازش‌های اولیه با آن\n",
        "</h3>\n",
        "</center>"
      ],
      "metadata": {
        "id": "n-CHE8la9o7H"
      }
    },
    {
      "cell_type": "markdown",
      "source": [
        "<div dir=rtl>\n",
        "ابتدا بسته ‌اسپارک را در پایتون نصب کنید:\n",
        "</div>"
      ],
      "metadata": {
        "id": "wQ2Mmr4q-IhG"
      }
    },
    {
      "cell_type": "code",
      "execution_count": 1,
      "metadata": {
        "id": "BdW4fkq6Tx98",
        "outputId": "488f228e-5a95-4caa-d411-28c838df141f",
        "colab": {
          "base_uri": "https://localhost:8080/"
        }
      },
      "outputs": [
        {
          "output_type": "stream",
          "name": "stdout",
          "text": [
            "Looking in indexes: https://pypi.org/simple, https://us-python.pkg.dev/colab-wheels/public/simple/\n",
            "Requirement already satisfied: pyspark in /usr/local/lib/python3.7/dist-packages (3.3.1)\n",
            "Requirement already satisfied: py4j==0.10.9.5 in /usr/local/lib/python3.7/dist-packages (from pyspark) (0.10.9.5)\n"
          ]
        }
      ],
      "source": [
        "!pip install pyspark"
      ]
    },
    {
      "cell_type": "markdown",
      "source": [
        "<div dir=rtl>\n",
        "سپس کتابخانه‌های مربوطه را import کنید.\n",
        "</div>"
      ],
      "metadata": {
        "id": "WFT0fMTM-XTC"
      }
    },
    {
      "cell_type": "code",
      "source": [
        "import pyspark\n",
        "from pyspark.sql import *\n",
        "from pyspark.sql.functions import *\n",
        "from pyspark import SparkContext, SparkConf"
      ],
      "metadata": {
        "id": "s-11xEFqT8kA"
      },
      "execution_count": 2,
      "outputs": []
    },
    {
      "cell_type": "markdown",
      "source": [
        "<div dir=rtl>\n",
        "با دستورات ذیل یک session و context برای اسپارک ایجاد می‌کنیم. \n",
        "</div>"
      ],
      "metadata": {
        "id": "T0oD2YaN-igy"
      }
    },
    {
      "cell_type": "code",
      "source": [
        "# create the session\n",
        "conf = SparkConf().set(\"spark.ui.port\", \"4050\")\n",
        "\n",
        "# create the context\n",
        "sc = pyspark.SparkContext(conf=conf)\n",
        "spark = SparkSession.builder.getOrCreate()"
      ],
      "metadata": {
        "id": "FU2qgC9HZPSH"
      },
      "execution_count": 3,
      "outputs": []
    },
    {
      "cell_type": "markdown",
      "source": [
        "<div dir=rtl>\n",
        "دستور spark را اجرا کنید تا مطمئن شوید که همه‌چیز به درستی نصب و تنظیم شده است\n",
        "</div>"
      ],
      "metadata": {
        "id": "umaj7W2a-rK0"
      }
    },
    {
      "cell_type": "code",
      "source": [
        "spark"
      ],
      "metadata": {
        "id": "zPR3Ugn0ZSxC",
        "outputId": "2f64d89a-3244-4ff5-87ce-a361117cedda",
        "colab": {
          "base_uri": "https://localhost:8080/",
          "height": 219
        }
      },
      "execution_count": 4,
      "outputs": [
        {
          "output_type": "execute_result",
          "data": {
            "text/plain": [
              "<pyspark.sql.session.SparkSession at 0x7fe9d0649910>"
            ],
            "text/html": [
              "\n",
              "            <div>\n",
              "                <p><b>SparkSession - in-memory</b></p>\n",
              "                \n",
              "        <div>\n",
              "            <p><b>SparkContext</b></p>\n",
              "\n",
              "            <p><a href=\"http://64aa0af5e109:4050\">Spark UI</a></p>\n",
              "\n",
              "            <dl>\n",
              "              <dt>Version</dt>\n",
              "                <dd><code>v3.3.1</code></dd>\n",
              "              <dt>Master</dt>\n",
              "                <dd><code>local[*]</code></dd>\n",
              "              <dt>AppName</dt>\n",
              "                <dd><code>pyspark-shell</code></dd>\n",
              "            </dl>\n",
              "        </div>\n",
              "        \n",
              "            </div>\n",
              "        "
            ]
          },
          "metadata": {},
          "execution_count": 4
        }
      ]
    },
    {
      "cell_type": "markdown",
      "source": [
        "<div dir=rtl>\n",
        "در این تمرین یک دیتاست معروف به نام Record Linkage را دانلود می‌کنیم. \n",
        "\n",
        "سوال اول: از لینک ذیل درباره این دیتاست مطالعه کنید و در یک پاراگراف آنرا معرفی کنید.\n",
        "</div>\n",
        "<div>\n",
        "<a href=\"https://archive.ics.uci.edu/ml/datasets/record+linkage+comparison+patterns\">https://archive.ics.uci.edu/ml/datasets/record+linkage+comparison+patterns</a>\n",
        "</div>"
      ],
      "metadata": {
        "id": "X9s0nwSi-16c"
      }
    },
    {
      "cell_type": "markdown",
      "source": [
        "---------------------------------------------\n",
        "\n",
        "اطلاعات مربوط به مشخصات فردی اشخصاص دو یک دوره سه ساله بین سال‌های ۲۰۰۵ تا ۲۰۰۸ است. این داده‌ها از طریق درج‌های تکراری از حدود ۱۰۰ هزار نمونه جمع‌آوری شده است. جفت داده‌ها توسط چندین مستند ساز با عنوان‌های «مطابقت» یا «غیر منطبق» طبقه‌بندی شدند. سپس برای پردازش راحت‌تر فقط و فقط جفت‌هایی انتخاب شدند که شرایط تطابق را داشتند. \n",
        "در نهایت نتایج شش شرط تشابه با یک دیگر ادغام شدند و داده‌های نهایی را به وجود آوردند."
      ],
      "metadata": {
        "id": "Vw9O73CCyzTg"
      }
    },
    {
      "cell_type": "code",
      "source": [
        "!curl -L -o donation.zip https://bit.ly/1Aoywaq\n",
        "!unzip donation.zip\n",
        "!unzip 'block_*.zip'"
      ],
      "metadata": {
        "id": "khRgc-dzZXyS",
        "outputId": "6e84ee18-c870-406c-d56e-588ced7a494c",
        "colab": {
          "base_uri": "https://localhost:8080/"
        }
      },
      "execution_count": 5,
      "outputs": [
        {
          "output_type": "stream",
          "name": "stdout",
          "text": [
            "  % Total    % Received % Xferd  Average Speed   Time    Time     Time  Current\n",
            "                                 Dload  Upload   Total   Spent    Left  Speed\n",
            "100   163  100   163    0     0   2810      0 --:--:-- --:--:-- --:--:--  2810\n",
            "100 53.8M  100 53.8M    0     0  25.9M      0  0:00:02  0:00:02 --:--:-- 33.3M\n",
            "Archive:  donation.zip\n",
            " extracting: block_10.zip            \n",
            " extracting: block_1.zip             \n",
            " extracting: block_2.zip             \n",
            " extracting: block_3.zip             \n",
            " extracting: block_4.zip             \n",
            " extracting: block_5.zip             \n",
            " extracting: block_6.zip             \n",
            " extracting: block_7.zip             \n",
            " extracting: block_8.zip             \n",
            " extracting: block_9.zip             \n",
            "  inflating: documentation           \n",
            "  inflating: frequencies.csv         \n",
            "Archive:  block_1.zip\n",
            "  inflating: block_1.csv             \n",
            "\n",
            "Archive:  block_4.zip\n",
            "  inflating: block_4.csv             \n",
            "\n",
            "Archive:  block_10.zip\n",
            "  inflating: block_10.csv            \n",
            "\n",
            "Archive:  block_5.zip\n",
            "  inflating: block_5.csv             \n",
            "\n",
            "Archive:  block_8.zip\n",
            "  inflating: block_8.csv             \n",
            "\n",
            "Archive:  block_6.zip\n",
            "  inflating: block_6.csv             \n",
            "\n",
            "Archive:  block_9.zip\n",
            "  inflating: block_9.csv             \n",
            "\n",
            "Archive:  block_3.zip\n",
            "  inflating: block_3.csv             \n",
            "\n",
            "Archive:  block_7.zip\n",
            "  inflating: block_7.csv             \n",
            "\n",
            "Archive:  block_2.zip\n",
            "  inflating: block_2.csv             \n",
            "\n",
            "10 archives were successfully processed.\n"
          ]
        }
      ]
    },
    {
      "cell_type": "markdown",
      "source": [
        "<div dir=rtl>\n",
        "در ادامه، همه فایل‌های csv مربوط به این دیتاست را در یک دیتافریم لود می‌کنیم:\n",
        "</div>"
      ],
      "metadata": {
        "id": "x8A3dttN_Y7A"
      }
    },
    {
      "cell_type": "code",
      "source": [
        "df0 = spark.read.csv(\"block*.csv\")"
      ],
      "metadata": {
        "id": "8-fK48tkZukj"
      },
      "execution_count": 6,
      "outputs": []
    },
    {
      "cell_type": "markdown",
      "source": [
        "<div dir=rtl>\n",
        "با دستور ذیل تعداد رکوردهای این دیتافریم را بدست می‌آوریم:\n",
        "</div>"
      ],
      "metadata": {
        "id": "ZZMignQl_6zc"
      }
    },
    {
      "cell_type": "code",
      "source": [
        "df0.count()"
      ],
      "metadata": {
        "id": "U-uiBke3aPb3",
        "outputId": "0f7381c0-8733-4966-939a-acd7e029eae8",
        "colab": {
          "base_uri": "https://localhost:8080/"
        }
      },
      "execution_count": 7,
      "outputs": [
        {
          "output_type": "execute_result",
          "data": {
            "text/plain": [
              "5749142"
            ]
          },
          "metadata": {},
          "execution_count": 7
        }
      ]
    },
    {
      "cell_type": "markdown",
      "source": [
        "<div dir=rtl>\n",
        "با این دستور شمای این دیتافریم را مشاهده می‌کنیم. دقت کنید که نام ستونها و نوع آنها همگی به صورت خودکار تولید شده‌اند\n",
        "</div>"
      ],
      "metadata": {
        "id": "COofDr1oAGlh"
      }
    },
    {
      "cell_type": "code",
      "source": [
        "df0.printSchema()"
      ],
      "metadata": {
        "id": "_VxLZwQaaUZP",
        "outputId": "2c5987ca-42a3-45aa-d4b2-ef7e2c9fe7a2",
        "colab": {
          "base_uri": "https://localhost:8080/"
        }
      },
      "execution_count": 8,
      "outputs": [
        {
          "output_type": "stream",
          "name": "stdout",
          "text": [
            "root\n",
            " |-- _c0: string (nullable = true)\n",
            " |-- _c1: string (nullable = true)\n",
            " |-- _c2: string (nullable = true)\n",
            " |-- _c3: string (nullable = true)\n",
            " |-- _c4: string (nullable = true)\n",
            " |-- _c5: string (nullable = true)\n",
            " |-- _c6: string (nullable = true)\n",
            " |-- _c7: string (nullable = true)\n",
            " |-- _c8: string (nullable = true)\n",
            " |-- _c9: string (nullable = true)\n",
            " |-- _c10: string (nullable = true)\n",
            " |-- _c11: string (nullable = true)\n",
            "\n"
          ]
        }
      ]
    },
    {
      "cell_type": "markdown",
      "source": [
        "<div dir=rtl>\n",
        "برای نمایش ۵ سطر اول این دیتافریم از دستور ذیل استفاده می‌کنیم\n",
        "</div>"
      ],
      "metadata": {
        "id": "E0U9pUFIAaAt"
      }
    },
    {
      "cell_type": "code",
      "source": [
        "df0.show(5)"
      ],
      "metadata": {
        "id": "yRgfLA15bbZU",
        "outputId": "4145c5cd-6b38-4f7e-9868-049bfdf0d7a2",
        "colab": {
          "base_uri": "https://localhost:8080/"
        }
      },
      "execution_count": 9,
      "outputs": [
        {
          "output_type": "stream",
          "name": "stdout",
          "text": [
            "+-----+-----+------------+------------+------------+------------+-------+------+------+------+-------+--------+\n",
            "|  _c0|  _c1|         _c2|         _c3|         _c4|         _c5|    _c6|   _c7|   _c8|   _c9|   _c10|    _c11|\n",
            "+-----+-----+------------+------------+------------+------------+-------+------+------+------+-------+--------+\n",
            "| id_1| id_2|cmp_fname_c1|cmp_fname_c2|cmp_lname_c1|cmp_lname_c2|cmp_sex|cmp_bd|cmp_bm|cmp_by|cmp_plz|is_match|\n",
            "| 3148| 8326|           1|           ?|           1|           ?|      1|     1|     1|     1|      1|    TRUE|\n",
            "|14055|94934|           1|           ?|           1|           ?|      1|     1|     1|     1|      1|    TRUE|\n",
            "|33948|34740|           1|           ?|           1|           ?|      1|     1|     1|     1|      1|    TRUE|\n",
            "|  946|71870|           1|           ?|           1|           ?|      1|     1|     1|     1|      1|    TRUE|\n",
            "+-----+-----+------------+------------+------------+------------+-------+------+------+------+-------+--------+\n",
            "only showing top 5 rows\n",
            "\n"
          ]
        }
      ]
    },
    {
      "cell_type": "markdown",
      "source": [
        "<div dir=rtl>\n",
        "حال، مجدد فایل‌های csv را با پارامترهای دیگری لود می‌کنیم:\n",
        "</div>"
      ],
      "metadata": {
        "id": "HgRTQng0Alxr"
      }
    },
    {
      "cell_type": "code",
      "source": [
        "parsed = spark.read.csv(\"block*.csv\", header=True, inferSchema=True, nullValue=\"?\")"
      ],
      "metadata": {
        "id": "fZT5gXKvfv4M"
      },
      "execution_count": 10,
      "outputs": []
    },
    {
      "cell_type": "code",
      "source": [
        "parsed.printSchema()"
      ],
      "metadata": {
        "id": "TExakuC8hCz-",
        "outputId": "62511e4a-bfed-4d5c-d449-094f4765ce96",
        "colab": {
          "base_uri": "https://localhost:8080/"
        }
      },
      "execution_count": 11,
      "outputs": [
        {
          "output_type": "stream",
          "name": "stdout",
          "text": [
            "root\n",
            " |-- id_1: integer (nullable = true)\n",
            " |-- id_2: integer (nullable = true)\n",
            " |-- cmp_fname_c1: double (nullable = true)\n",
            " |-- cmp_fname_c2: double (nullable = true)\n",
            " |-- cmp_lname_c1: double (nullable = true)\n",
            " |-- cmp_lname_c2: double (nullable = true)\n",
            " |-- cmp_sex: integer (nullable = true)\n",
            " |-- cmp_bd: integer (nullable = true)\n",
            " |-- cmp_bm: integer (nullable = true)\n",
            " |-- cmp_by: integer (nullable = true)\n",
            " |-- cmp_plz: integer (nullable = true)\n",
            " |-- is_match: boolean (nullable = true)\n",
            "\n"
          ]
        }
      ]
    },
    {
      "cell_type": "code",
      "source": [
        "parsed.show(5)"
      ],
      "metadata": {
        "id": "sZC6faxghRLd",
        "outputId": "6bec3f10-8e2d-48f7-e760-9f5a33740f80",
        "colab": {
          "base_uri": "https://localhost:8080/"
        }
      },
      "execution_count": 12,
      "outputs": [
        {
          "output_type": "stream",
          "name": "stdout",
          "text": [
            "+-----+-----+------------+------------+------------+------------+-------+------+------+------+-------+--------+\n",
            "| id_1| id_2|cmp_fname_c1|cmp_fname_c2|cmp_lname_c1|cmp_lname_c2|cmp_sex|cmp_bd|cmp_bm|cmp_by|cmp_plz|is_match|\n",
            "+-----+-----+------------+------------+------------+------------+-------+------+------+------+-------+--------+\n",
            "| 3148| 8326|         1.0|        null|         1.0|        null|      1|     1|     1|     1|      1|    true|\n",
            "|14055|94934|         1.0|        null|         1.0|        null|      1|     1|     1|     1|      1|    true|\n",
            "|33948|34740|         1.0|        null|         1.0|        null|      1|     1|     1|     1|      1|    true|\n",
            "|  946|71870|         1.0|        null|         1.0|        null|      1|     1|     1|     1|      1|    true|\n",
            "|64880|71676|         1.0|        null|         1.0|        null|      1|     1|     1|     1|      1|    true|\n",
            "+-----+-----+------------+------------+------------+------------+-------+------+------+------+-------+--------+\n",
            "only showing top 5 rows\n",
            "\n"
          ]
        }
      ]
    },
    {
      "cell_type": "markdown",
      "source": [
        "<div dir=rtl>\n",
        "سوال دوم:\n",
        "با تغییر انجام شده در نحوه خواندن فایل‌های csv چه تغییری در DataFrame جدید نسبت به حالت قبل ایجاد شده است؟\n",
        "</div>\n"
      ],
      "metadata": {
        "id": "jjOtWBrIzp0P"
      }
    },
    {
      "cell_type": "markdown",
      "source": [
        "\n",
        "\n",
        "1.   عنوان ستون‌ها به عنوان یک رکورد در داده‌ها نیستند و تبدیل یه عنوان شدند. \n",
        "2.   داده‌های تهی مشخصاً با همین عنوان مشخص شدند.\n",
        "3. بدیهی است که مورد اول باعث می شود که در گزارش گرفتن از داده‌ها یک ثبت کم‌تر شود.\n",
        "4. ستون‌ها از حالت استرینگ خارج شدند\n",
        "\n"
      ],
      "metadata": {
        "id": "-G-NZXyw1g8C"
      }
    },
    {
      "cell_type": "markdown",
      "source": [
        "<div dir=rtl>\n",
        "در ادامه، دستور ذیل را اجرا کنید:\n",
        "</div>\n"
      ],
      "metadata": {
        "id": "HOIb7QjsA5Xt"
      }
    },
    {
      "cell_type": "code",
      "source": [
        "parsed.groupBy('is_match').count().show()"
      ],
      "metadata": {
        "id": "90Nxhce7hUPS",
        "outputId": "a2e1d76e-4a76-4a2c-a00d-3d79729822f5",
        "colab": {
          "base_uri": "https://localhost:8080/"
        }
      },
      "execution_count": 13,
      "outputs": [
        {
          "output_type": "stream",
          "name": "stdout",
          "text": [
            "+--------+-------+\n",
            "|is_match|  count|\n",
            "+--------+-------+\n",
            "|    true|  20931|\n",
            "|   false|5728201|\n",
            "+--------+-------+\n",
            "\n"
          ]
        }
      ]
    },
    {
      "cell_type": "markdown",
      "source": [
        "<div dir=rtl>\n",
        "سوال سوم: \n",
        "دستور بالا چه کاری انجام می‌دهد؟\n",
        "</div>"
      ],
      "metadata": {
        "id": "P8nXv72V0-_c"
      }
    },
    {
      "cell_type": "markdown",
      "source": [
        "ما 5.749.132 داده داشتیم که با دستور فوق آنهایی که با یکدیگر تطابق داشتند را شناسایی کردیم و می دانیم 20.931 از آنها با یکدیگر در تطابق هستند."
      ],
      "metadata": {
        "id": "TOfjXVznOckq"
      }
    },
    {
      "cell_type": "markdown",
      "source": [
        "<div dir=rtl>\n",
        "برای نمایش اطلاعات آماری از دیتاست از دستور ذیل استفاده می‌کنیم:\n",
        "</div>"
      ],
      "metadata": {
        "id": "TNk9Is6GBGQH"
      }
    },
    {
      "cell_type": "code",
      "source": [
        "summary = parsed.describe()\n",
        "summary.show()"
      ],
      "metadata": {
        "id": "WwhcUdF8kr07",
        "outputId": "45f4b361-0d88-4751-b1ee-26f50ebba9e9",
        "colab": {
          "base_uri": "https://localhost:8080/"
        }
      },
      "execution_count": 14,
      "outputs": [
        {
          "output_type": "stream",
          "name": "stdout",
          "text": [
            "+-------+------------------+------------------+------------------+------------------+-------------------+-------------------+-------------------+-------------------+-------------------+------------------+-------------------+\n",
            "|summary|              id_1|              id_2|      cmp_fname_c1|      cmp_fname_c2|       cmp_lname_c1|       cmp_lname_c2|            cmp_sex|             cmp_bd|             cmp_bm|            cmp_by|            cmp_plz|\n",
            "+-------+------------------+------------------+------------------+------------------+-------------------+-------------------+-------------------+-------------------+-------------------+------------------+-------------------+\n",
            "|  count|           5749132|           5749132|           5748125|            103698|            5749132|               2464|            5749132|            5748337|            5748337|           5748337|            5736289|\n",
            "|   mean| 33324.48559643438| 66587.43558331935|0.7129024704425707| 0.900017671890335|0.31562781930763056|0.31841283153174366|  0.955001381078048|0.22446526708507172|0.48885529849763504|0.2227485966810923|0.00552866147434343|\n",
            "| stddev|23659.859374487987|23620.487613269706|0.3887583596162788|0.2713176105782331| 0.3342336339615803| 0.3685670662006655|0.20730111116897443|0.41722972238461925| 0.4998758236779003|0.4160909629831711|0.07414914925420013|\n",
            "|    min|                 1|                 6|               0.0|               0.0|                0.0|                0.0|                  0|                  0|                  0|                 0|                  0|\n",
            "|    max|             99980|            100000|               1.0|               1.0|                1.0|                1.0|                  1|                  1|                  1|                 1|                  1|\n",
            "+-------+------------------+------------------+------------------+------------------+-------------------+-------------------+-------------------+-------------------+-------------------+------------------+-------------------+\n",
            "\n"
          ]
        }
      ]
    },
    {
      "cell_type": "markdown",
      "source": [
        "<div dir=rtl>\n",
        "سوال چهارم:\n",
        "چرا مقادیر count در ستون‌های مختلف متفاوت است؟\n",
        "</div>"
      ],
      "metadata": {
        "id": "uZRG4aWo1fMe"
      }
    },
    {
      "cell_type": "markdown",
      "source": [
        "درایه‌های تهی پاسخ اصلی است.\n",
        "اما در ضرب ماتریس‌ها هم داشتیم که داده های صفر را ذخیره نمی‌کردند که البته در اینجا این نکته صدق نخواهد کرد. در انتهای این نوتبوک بیشتر توضیح خواهم داد.\n",
        "در واقع در اینجا صرفا اطلاعاتی از آن ستون خاص در داده مذکور وجود ندارد و این باث میشد درایه تهی باشد"
      ],
      "metadata": {
        "id": "kofaxthnOyvQ"
      }
    },
    {
      "cell_type": "markdown",
      "source": [
        "<div dir=rtl>\n",
        "می‌توان آماره‌های مد نظر را روی دو دسته رکوردهایی که مقادیر فیلد is_matched آنها متفاوت است اجرا کرد. \n",
        "\n",
        "در اینجا به نحوه  فیلتر  بر اساس این فیلد توجه کنید.\n",
        "</div>"
      ],
      "metadata": {
        "id": "L1WG6jCe2Ffd"
      }
    },
    {
      "cell_type": "code",
      "source": [
        "matches = parsed.where(\"is_match = true\")\n",
        "match_summary = matches.describe()\n",
        "\n",
        "misses = parsed.filter(col(\"is_match\") == False) \n",
        "miss_summary = misses.describe()"
      ],
      "metadata": {
        "id": "dUnEZyI31YkG"
      },
      "execution_count": 15,
      "outputs": []
    },
    {
      "cell_type": "code",
      "source": [
        "matches.describe()"
      ],
      "metadata": {
        "id": "PHAjJE4oPn6D",
        "outputId": "4ed5d90e-6565-4c67-bce9-bf8b830d9455",
        "colab": {
          "base_uri": "https://localhost:8080/"
        }
      },
      "execution_count": 16,
      "outputs": [
        {
          "output_type": "execute_result",
          "data": {
            "text/plain": [
              "DataFrame[summary: string, id_1: string, id_2: string, cmp_fname_c1: string, cmp_fname_c2: string, cmp_lname_c1: string, cmp_lname_c2: string, cmp_sex: string, cmp_bd: string, cmp_bm: string, cmp_by: string, cmp_plz: string]"
            ]
          },
          "metadata": {},
          "execution_count": 16
        }
      ]
    },
    {
      "cell_type": "markdown",
      "source": [
        "<div dir=rtl>\n",
        "روی دیتافریم ایجاد شده می‌توان انواع پیش‌پردازش‌ها را انجام داد. \n",
        "به عنوان نمونه فرض کنید می‌خواهیم تمام مقادیر null را با مقدار صفر جایگزین کنیم.\n",
        "\n",
        "سوال پنجم: برای انجام این کار از چه دستوری باید استفاده کرد؟\n",
        "\n",
        "</div>"
      ],
      "metadata": {
        "id": "urIW11B-BUJ3"
      }
    },
    {
      "cell_type": "code",
      "source": [
        "# Fill the null values  with 0\n",
        "parsed.na.fill(0)\n",
        "####################################################\n",
        "#In the following report, you can also see that the null values were replaced with 0\n",
        "\n",
        "summary = parsed.na.fill(0).describe()\n",
        "summary.show()"
      ],
      "metadata": {
        "id": "YGCr8vuU4XSX",
        "outputId": "db51c49f-4321-443d-9a66-90de1d3bc5ce",
        "colab": {
          "base_uri": "https://localhost:8080/"
        }
      },
      "execution_count": 17,
      "outputs": [
        {
          "output_type": "stream",
          "name": "stdout",
          "text": [
            "+-------+------------------+------------------+-------------------+-------------------+-------------------+--------------------+-------------------+-------------------+------------------+-------------------+-------------------+\n",
            "|summary|              id_1|              id_2|       cmp_fname_c1|       cmp_fname_c2|       cmp_lname_c1|        cmp_lname_c2|            cmp_sex|             cmp_bd|            cmp_bm|             cmp_by|            cmp_plz|\n",
            "+-------+------------------+------------------+-------------------+-------------------+-------------------+--------------------+-------------------+-------------------+------------------+-------------------+-------------------+\n",
            "|  count|           5749132|           5749132|            5749132|            5749132|            5749132|             5749132|            5749132|            5749132|           5749132|            5749132|            5749132|\n",
            "|   mean| 33324.48559643438| 66587.43558331935| 0.7127776006730584|0.01623376059893632|0.31562781930763056|1.364674209766303E-4|  0.955001381078048|0.22443422763645016|0.4887876987343481|0.22271779461664823|0.00551631098398854|\n",
            "| stddev|23659.859374487987|23620.487613269706|0.38883877708134573|0.12519944119738372| 0.3342336339615803|0.010081202639204406|0.20730111116897443|0.41720922254688064|0.4998743119658114|0.41607043717281283|0.07406674187060683|\n",
            "|    min|                 1|                 6|                0.0|                0.0|                0.0|                 0.0|                  0|                  0|                 0|                  0|                  0|\n",
            "|    max|             99980|            100000|                1.0|                1.0|                1.0|                 1.0|                  1|                  1|                 1|                  1|                  1|\n",
            "+-------+------------------+------------------+-------------------+-------------------+-------------------+--------------------+-------------------+-------------------+------------------+-------------------+-------------------+\n",
            "\n"
          ]
        }
      ]
    },
    {
      "cell_type": "markdown",
      "source": [
        " در گزارش فوق نیز میتوانید ببینید که مقادیر تهی با ۰ جایگزین شدند که دو نکته حائز اهمیت را میتوان مشاهده کرد.\n",
        " \n",
        " ۱. تعداد شمارش هر ستون برابر کل داده‌ها شد\n",
        "\n",
        " ۲. شاخص‌های آماری نسبت به ورژن اولیه متفاوت شد"
      ],
      "metadata": {
        "id": "sGc9jS5RQqz-"
      }
    }
  ]
}